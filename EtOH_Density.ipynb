{
 "cells": [
  {
   "cell_type": "code",
   "execution_count": 21,
   "metadata": {},
   "outputs": [
    {
     "name": "stdout",
     "output_type": "stream",
     "text": [
      "-1.2649169e-06\n"
     ]
    }
   ],
   "source": [
    "#Ethanol and its mixtures with water - Determination of the density and alcoholic strength - Glass densimeter method\n",
    "#ABNT NBR 5992 - 17.12.2008\n",
    "\n",
    "# Alcoholic curve with reference temperature = 20°C\n",
    "Tr = 20,\n",
    "\n",
    "#Coefficients of Bettin e Spieweck (1990)\n",
    "A =[913.76673,-221.75948,-59.61786,146.82019,-566.5175,621.18006,3782.4439,-9745.3133,-9573.4653,32677.808,8763.7383,-39026.437]\n",
    "\n",
    "B =[-0.794376,-0.001217,3.5017833e-6,1.770944e-7,-3.4138828e-9,-9.9880242e-11]\n",
    "\n",
    "C =[[-0.39158709, -0.000120832, -3.8683211e-5, -5.6024906e-7, -1.444174e-8],\n",
    "    [1.1518337, -0.005746625, -0.000209114, -1.2649169e-6, 1.3470542e-8],\n",
    "    [-5.0416999, 0.12030894, 0.002671389, 3.486395e-6, 0],\n",
    "    [13.381608, -0.23519694, 0.004104205, -1.5168726e-6, 0],\n",
    "    [4.5899913, -1.0362738, -0.049364385, 0, 0],\n",
    "    [-118.21, 2.1804505, -0.017952946, 0, 0],\n",
    "    [190.5402, 4.2763108, 0.29012506, 0, 0],\n",
    "    [339.81954, -6.8624848, 0.023001712, 0, 0],\n",
    "    [-900.32344, -6.9384031, -0.54150139, 0, 0],\n",
    "    [-349.32012, 7.4460428, 0, 0, 0],\n",
    "    [1285.9318, 0, 0, 0, 0]]\n",
    "\n",
    "m  = [11,10,9,4,2]\n",
    "n  = 5"
   ]
  },
  {
   "cell_type": "code",
   "execution_count": 13,
   "metadata": {},
   "outputs": [
    {
     "name": "stdout",
     "output_type": "stream",
     "text": [
      "Nice! The composition and temperature are within the ranges\n"
     ]
    }
   ],
   "source": [
    "#Define composition and temperature\n",
    "xm = 19 # ºINPM (0 < T < 100 %)\n",
    "T = 30 #Temperature (-20 < T < 50 ºC)\n",
    "\n",
    "if T<-20 or T>50:\n",
    "  print('Error! The temperature range must be between -20 and 50 ºC')\n",
    "elif xm<0 or xm>100:\n",
    "  print('Error! The composition range must be between 0 and 100%')\n",
    "else:\n",
    "    print('Nice! The composition and temperature are within the ranges')\n"
   ]
  },
  {
   "cell_type": "code",
   "execution_count": null,
   "metadata": {},
   "outputs": [],
   "source": []
  }
 ],
 "metadata": {
  "kernelspec": {
   "display_name": "base",
   "language": "python",
   "name": "python3"
  },
  "language_info": {
   "codemirror_mode": {
    "name": "ipython",
    "version": 3
   },
   "file_extension": ".py",
   "mimetype": "text/x-python",
   "name": "python",
   "nbconvert_exporter": "python",
   "pygments_lexer": "ipython3",
   "version": "3.9.13 (main, Aug 25 2022, 23:51:50) [MSC v.1916 64 bit (AMD64)]"
  },
  "orig_nbformat": 4,
  "vscode": {
   "interpreter": {
    "hash": "1870f1194fb5b3d43b6d32e845741389586dbe9c4e1e45e17e0f6602cfe22778"
   }
  }
 },
 "nbformat": 4,
 "nbformat_minor": 2
}
