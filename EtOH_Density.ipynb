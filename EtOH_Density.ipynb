{
 "cells": [
  {
   "cell_type": "code",
   "execution_count": 106,
   "metadata": {},
   "outputs": [],
   "source": [
    "#Ethanol and its mixtures with water - Determination of the density and alcoholic strength - Glass densimeter method\n",
    "#ABNT NBR 5992 - 17.12.2008\n",
    "def EtOH_Dens(xm,T):\n",
    "  # Alcoholic curve with reference temperature = 20°C\n",
    "  Tr = 20\n",
    "\n",
    "  #Coefficients of Bettin e Spieweck (1990)\n",
    "  A =[913.76673,-221.75948,-59.61786,146.82019,-566.5175,621.18006,3782.4439,-9745.3133,-9573.4653,32677.808,8763.7383,-39026.437]\n",
    "\n",
    "  B =[-0.794376,-0.001217,3.5017833e-6,1.770944e-7,-3.4138828e-9,-9.9880242e-11]\n",
    "\n",
    "  C =[[-0.39158709, -0.000120832, -3.8683211e-5, -5.6024906e-7, -1.444174e-8],\n",
    "  [1.1518337, -0.005746625, -0.000209114, -1.2649169e-6, 1.3470542e-8],\n",
    "  [-5.0416999, 0.12030894, 0.002671389, 3.486395e-6, 0],\n",
    "  [13.381608, -0.23519694, 0.004104205, -1.5168726e-6, 0],\n",
    "  [4.5899913, -1.0362738, -0.049364385, 0, 0],\n",
    "  [-118.21, 2.1804505, -0.017952946, 0, 0],\n",
    "  [190.5402, 4.2763108, 0.29012506, 0, 0],\n",
    "  [339.81954, -6.8624848, 0.023001712, 0, 0],\n",
    "  [-900.32344, -6.9384031, -0.54150139, 0, 0],\n",
    "  [-349.32012, 7.4460428, 0, 0, 0],\n",
    "  [1285.9318, 0, 0, 0, 0]]\n",
    "\n",
    "  m  = [11,10,9,4,2]\n",
    "  n  = 5\n",
    "\n",
    "  #Define ranges of composition (mass percentage) and temperature (ºC)\n",
    "  if xm<0 or xm>100 & T<-20 or T>50:\n",
    "    return print('Error! The composition must be between 0 and 100 % and temperature must be between  -20 and 50 ºC')\n",
    "  elif T<-20 or T>50:\n",
    "    return print('Error! The temperature range must be between -20 and 50 ºC')\n",
    "  elif xm<0 or xm>100:\n",
    "    return print('Error! The composition range must be between 0 and 100 %')\n",
    "  else:\n",
    "    print('Nice! The composition and temperature are within the ranges')\n",
    "\n",
    "  #Specific mass calculation\n",
    "  sum1=0\n",
    "  sum2=0\n",
    "  sum3=0\n",
    "\n",
    "  #Calculate the first summation (composition)\n",
    "  for k in range(1, len(A)):\n",
    "    sum1=sum1+A[k]*(xm/100-0.5)**(k) #Calculate the first summation (composition)\n",
    "\n",
    "  #Calculate the second summation (temperature)\n",
    "  for k in range(0, len(B)):\n",
    "    sum2=sum2+B[k]*(T-Tr)**(k+1)\n",
    "\n",
    "  #Calculate the third summation (composition and temperature)\n",
    "  for i in range(0,n):\n",
    "    for k in range(0,m[i]):\n",
    "      sum3=sum3+C[k][i]*(xm/100-0.5)**(k+1)*(T-Tr)**(i+1)\n",
    "\n",
    "  #Calculate the specific mass\n",
    "  D = A[0]+sum1+sum2+sum3\n",
    "  #print(\"Ethanol mixture specific mass ({:.1f} %, {:.1f} ºC)= {:.2f} kg/m³\".format(xm,T,D))\n",
    "  return D"
   ]
  },
  {
   "cell_type": "code",
   "execution_count": 107,
   "metadata": {},
   "outputs": [],
   "source": [
    "#Calculate the volumetric composition\n",
    "def EtOH_GL(xm,D):\n",
    "    T  = 20\n",
    "    xv = xm*D/789.23\n",
    "    #print(\"Ethanol mixture volumetric percentage ({:.1f} %, {:.1f} ºC)= {:.2f} ºGL\".format(xm,T,xv))\n",
    "    return xv"
   ]
  },
  {
   "cell_type": "code",
   "execution_count": 108,
   "metadata": {},
   "outputs": [],
   "source": [
    "#Calculate the volume correction factor (VCF)\n",
    "def EtOH_VCF(D,D20,T):\n",
    "    VCF = D/D20*(1+3.6e-5*(T-20))\n",
    "    #print(\"Ethanol mixture volume correction factor ({:.1f} %, {:.1f} ºC)= {:.3f}\".format(xm,T,VCF))\n",
    "    return VCF"
   ]
  },
  {
   "cell_type": "code",
   "execution_count": 109,
   "metadata": {},
   "outputs": [
    {
     "name": "stdout",
     "output_type": "stream",
     "text": [
      "Nice! The composition and temperature are within the ranges\n",
      "Nice! The composition and temperature are within the ranges\n"
     ]
    }
   ],
   "source": [
    "#Define xm  (mass percentage) and temperature (ºC)\n",
    "xm = 69\n",
    "T  = 48\n",
    "\n",
    "#Calculate\n",
    "D  = EtOH_Dens(xm,T)  #Specific mass at temperature T\n",
    "D20= EtOH_Dens(xm,20) #Specific mass at temperature 20 ºC\n",
    "GL = EtOH_GL(xm,D20)  #Volumetric percentage at 20 ºC\n",
    "VCF= EtOH_VCF(D,D20,T)#Volume correction factor at temperature T\n"
   ]
  },
  {
   "cell_type": "code",
   "execution_count": 110,
   "metadata": {},
   "outputs": [
    {
     "name": "stdout",
     "output_type": "stream",
     "text": [
      "╒══════════════════════════╤═════════╕\n",
      "│ Parameter                │   Value │\n",
      "╞══════════════════════════╪═════════╡\n",
      "│ Temperature (ºC)         │  48.000 │\n",
      "├──────────────────────────┼─────────┤\n",
      "│ Mass percentage (%)      │  69.000 │\n",
      "├──────────────────────────┼─────────┤\n",
      "│ Volume percentage (%)    │  76.060 │\n",
      "├──────────────────────────┼─────────┤\n",
      "│ Volume correction factor │   0.973 │\n",
      "├──────────────────────────┼─────────┤\n",
      "│ Specific mass (kg/m³)    │ 845.368 │\n",
      "╘══════════════════════════╧═════════╛\n"
     ]
    }
   ],
   "source": [
    "#Results summary\n",
    "from tabulate import tabulate\n",
    "results = [[\"Temperature (ºC)\", T],\n",
    "        [\"Mass percentage (%)\", xm], \n",
    "        [\"Volume percentage (%)\", GL], \n",
    "        [\"Volume correction factor\", VCF], \n",
    "        [\"Specific mass (kg/m³)\", D]]\n",
    "col_names = [\"Parameter\", \"Value\"]\n",
    "print(tabulate(results, headers=col_names, tablefmt=\"fancy_grid\", stralign='left', numalign='right', floatfmt=\".3f\"))\n"
   ]
  }
 ],
 "metadata": {
  "kernelspec": {
   "display_name": "base",
   "language": "python",
   "name": "python3"
  },
  "language_info": {
   "codemirror_mode": {
    "name": "ipython",
    "version": 3
   },
   "file_extension": ".py",
   "mimetype": "text/x-python",
   "name": "python",
   "nbconvert_exporter": "python",
   "pygments_lexer": "ipython3",
   "version": "3.9.13"
  },
  "orig_nbformat": 4,
  "vscode": {
   "interpreter": {
    "hash": "1870f1194fb5b3d43b6d32e845741389586dbe9c4e1e45e17e0f6602cfe22778"
   }
  }
 },
 "nbformat": 4,
 "nbformat_minor": 2
}
